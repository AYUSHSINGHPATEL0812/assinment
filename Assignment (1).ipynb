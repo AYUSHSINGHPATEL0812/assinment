{
 "cells": [
  {
   "cell_type": "code",
   "execution_count": null,
   "id": "500413b0-ab26-4287-8936-acc3721cb241",
   "metadata": {},
   "outputs": [],
   "source": [
    "Q1. Explain Class and Object with respect to Object-Oriented Programming. Give a suitable example."
   ]
  },
  {
   "cell_type": "code",
   "execution_count": null,
   "id": "34a50a5c-08e5-4f75-aa26-97e1db1f4a9b",
   "metadata": {},
   "outputs": [],
   "source": []
  },
  {
   "cell_type": "code",
   "execution_count": 2,
   "id": "fedc3310-369a-4a25-8720-d48933f7c864",
   "metadata": {},
   "outputs": [],
   "source": [
    " # CLASS :- Almost every language has some basic data types such as int float ling and so on but  not all real worad  objects can be represented using these bulit un type .\n",
    "    \n",
    "  #  object :- while a class is a logical structure an  object os a physical actuality.  \n",
    "    \n",
    "class Car:\n",
    "    def __init__(self, make, model, year):\n",
    "        self.make = make\n",
    "        self.model = model\n",
    "        self.year = year\n",
    "    \n",
    "    def start_engine(self):\n",
    "        print(\"The engine is starting.\")\n",
    "    \n",
    "    def stop_engine(self):\n",
    "        print(\"The engine is stopping.\")\n",
    "\n",
    "\n",
    "\n"
   ]
  },
  {
   "cell_type": "code",
   "execution_count": 3,
   "id": "be39fc69-51af-43cd-9a8a-712c58ddc8e5",
   "metadata": {},
   "outputs": [],
   "source": [
    "my_car = Car(\"Toyota\", \"Camry\", 2022)\n"
   ]
  },
  {
   "cell_type": "code",
   "execution_count": 4,
   "id": "728b8163-5be9-4100-afed-c6c0c9aac24f",
   "metadata": {},
   "outputs": [
    {
     "name": "stdout",
     "output_type": "stream",
     "text": [
      "The engine is starting.\n"
     ]
    }
   ],
   "source": [
    "my_car.start_engine()\n"
   ]
  },
  {
   "cell_type": "code",
   "execution_count": null,
   "id": "4d36b85f-e27a-400c-9a17-94056fecaddb",
   "metadata": {},
   "outputs": [],
   "source": []
  },
  {
   "cell_type": "code",
   "execution_count": null,
   "id": "f86f3afb-04f9-4591-b139-afb79e94261e",
   "metadata": {},
   "outputs": [],
   "source": [
    "Q2. Name the four pillars of OOPs."
   ]
  },
  {
   "cell_type": "code",
   "execution_count": null,
   "id": "bb7f60be-84de-4597-a1a1-9b088df08399",
   "metadata": {},
   "outputs": [],
   "source": [
    "1.Polymorphism\n",
    "2.Abstraction\n",
    "3.Inheritance\n",
    "4.Encapsulation"
   ]
  },
  {
   "cell_type": "code",
   "execution_count": null,
   "id": "d3e8e630-5017-41d5-a888-a4db78cdd4dd",
   "metadata": {},
   "outputs": [],
   "source": []
  },
  {
   "cell_type": "code",
   "execution_count": null,
   "id": "306d982d-9825-43a0-84a2-360485022ab9",
   "metadata": {},
   "outputs": [],
   "source": [
    "Q3. Explain why the __init__() function is used. Give a suitable example."
   ]
  },
  {
   "cell_type": "code",
   "execution_count": null,
   "id": "b1000b7a-5c78-4641-8c7d-a9b5c86c955c",
   "metadata": {},
   "outputs": [],
   "source": [
    "The __init__() method is defined within a class and takes the self parameter"
   ]
  },
  {
   "cell_type": "code",
   "execution_count": null,
   "id": "18616676-cefc-46f9-9c54-820696a3e0a4",
   "metadata": {},
   "outputs": [],
   "source": [
    "class pwskills :\n",
    "    \n",
    "    def __init__(self ,phone_number , email_id,student_id ):\n",
    "        self.phone_number = phone_number\n",
    "        self.email_id = email_id\n",
    "        self.student_id = student_id\n",
    "        \n",
    "    def return_student_deetails(self) :\n",
    "        return self.student_id,self.phone_number, self.email_id"
   ]
  },
  {
   "cell_type": "code",
   "execution_count": null,
   "id": "754c73cb-bb69-44ad-b9f9-e94672f5b01a",
   "metadata": {},
   "outputs": [],
   "source": []
  },
  {
   "cell_type": "code",
   "execution_count": null,
   "id": "362b6c47-51f5-41df-bcdf-497f1f278b28",
   "metadata": {},
   "outputs": [],
   "source": [
    "Q4. Why self is used in OOPs?"
   ]
  },
  {
   "cell_type": "code",
   "execution_count": null,
   "id": "f3a4c1d6-5773-48b9-8efd-2c02d2b3423a",
   "metadata": {},
   "outputs": [],
   "source": [
    " self are used becouse of object from within its own class. \n",
    "    in place of self we used any name which canwe define."
   ]
  },
  {
   "cell_type": "code",
   "execution_count": null,
   "id": "15536cfe-ebbd-499c-b78e-2f8c0151f927",
   "metadata": {},
   "outputs": [],
   "source": []
  },
  {
   "cell_type": "code",
   "execution_count": null,
   "id": "377cf2f4-a2f2-469f-9913-dbd6466763e6",
   "metadata": {},
   "outputs": [],
   "source": [
    "Q5. What is inheritance? Give an example for each type of inheritance."
   ]
  },
  {
   "cell_type": "code",
   "execution_count": null,
   "id": "216a27ed-cedf-4aba-a2df-9540278c33e9",
   "metadata": {},
   "outputs": [],
   "source": [
    "Inheritance is a fundamental concept it allows creation of new classes based on base classes."
   ]
  },
  {
   "cell_type": "code",
   "execution_count": 5,
   "id": "f2eea9a5-1325-40d5-8f9d-4606edb6dc7c",
   "metadata": {},
   "outputs": [],
   "source": [
    "class Animal:\n",
    "    def sound(self):\n",
    "        print(\"The animal makes a sound.\")\n",
    "\n",
    "class Dog(Animal):\n",
    "    def sound(self):\n",
    "        print(\"The dog barks.\")"
   ]
  },
  {
   "cell_type": "code",
   "execution_count": 7,
   "id": "38c00114-d438-450d-8c1a-bdaf24a5f38d",
   "metadata": {},
   "outputs": [],
   "source": [
    "my_dog = Dog()"
   ]
  },
  {
   "cell_type": "code",
   "execution_count": 8,
   "id": "53ec5168-d797-43af-9d73-f1dcb6ec257e",
   "metadata": {},
   "outputs": [
    {
     "name": "stdout",
     "output_type": "stream",
     "text": [
      "The dog barks.\n"
     ]
    }
   ],
   "source": [
    "my_dog.sound()"
   ]
  },
  {
   "cell_type": "code",
   "execution_count": null,
   "id": "a269d125-3cb8-4917-bce4-6734d15cc826",
   "metadata": {},
   "outputs": [],
   "source": []
  }
 ],
 "metadata": {
  "kernelspec": {
   "display_name": "Python 3 (ipykernel)",
   "language": "python",
   "name": "python3"
  },
  "language_info": {
   "codemirror_mode": {
    "name": "ipython",
    "version": 3
   },
   "file_extension": ".py",
   "mimetype": "text/x-python",
   "name": "python",
   "nbconvert_exporter": "python",
   "pygments_lexer": "ipython3",
   "version": "3.10.8"
  }
 },
 "nbformat": 4,
 "nbformat_minor": 5
}
